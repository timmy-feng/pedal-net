{
 "cells": [
  {
   "cell_type": "code",
   "execution_count": 1,
   "id": "b6b29218-cfc2-434d-a396-3bbeb3acfa06",
   "metadata": {},
   "outputs": [],
   "source": [
    "import pandas as pd\n",
    "import mido\n",
    "import os\n",
    "from tqdm import tqdm\n",
    "import matplotlib.pyplot as plt"
   ]
  },
  {
   "cell_type": "code",
   "execution_count": 2,
   "id": "11080afe-dcb4-471f-b4a3-83a6a480c50d",
   "metadata": {},
   "outputs": [
    {
     "ename": "FileNotFoundError",
     "evalue": "[Errno 2] No such file or directory: 'maestro-v3.0.0/maestro-v3.0.0.csv'",
     "output_type": "error",
     "traceback": [
      "\u001b[0;31m---------------------------------------------------------------------------\u001b[0m",
      "\u001b[0;31mFileNotFoundError\u001b[0m                         Traceback (most recent call last)",
      "Cell \u001b[0;32mIn[2], line 2\u001b[0m\n\u001b[1;32m      1\u001b[0m maestro_csv \u001b[38;5;241m=\u001b[39m \u001b[38;5;124m'\u001b[39m\u001b[38;5;124mmaestro-v3.0.0/maestro-v3.0.0.csv\u001b[39m\u001b[38;5;124m'\u001b[39m\n\u001b[0;32m----> 2\u001b[0m maestro_df \u001b[38;5;241m=\u001b[39m \u001b[43mpd\u001b[49m\u001b[38;5;241;43m.\u001b[39;49m\u001b[43mread_csv\u001b[49m\u001b[43m(\u001b[49m\u001b[43mmaestro_csv\u001b[49m\u001b[43m)\u001b[49m\n\u001b[1;32m      3\u001b[0m maestro_df\n",
      "File \u001b[0;32m~/miniconda3/envs/expiano/lib/python3.10/site-packages/pandas/io/parsers/readers.py:1026\u001b[0m, in \u001b[0;36mread_csv\u001b[0;34m(filepath_or_buffer, sep, delimiter, header, names, index_col, usecols, dtype, engine, converters, true_values, false_values, skipinitialspace, skiprows, skipfooter, nrows, na_values, keep_default_na, na_filter, verbose, skip_blank_lines, parse_dates, infer_datetime_format, keep_date_col, date_parser, date_format, dayfirst, cache_dates, iterator, chunksize, compression, thousands, decimal, lineterminator, quotechar, quoting, doublequote, escapechar, comment, encoding, encoding_errors, dialect, on_bad_lines, delim_whitespace, low_memory, memory_map, float_precision, storage_options, dtype_backend)\u001b[0m\n\u001b[1;32m   1013\u001b[0m kwds_defaults \u001b[38;5;241m=\u001b[39m _refine_defaults_read(\n\u001b[1;32m   1014\u001b[0m     dialect,\n\u001b[1;32m   1015\u001b[0m     delimiter,\n\u001b[0;32m   (...)\u001b[0m\n\u001b[1;32m   1022\u001b[0m     dtype_backend\u001b[38;5;241m=\u001b[39mdtype_backend,\n\u001b[1;32m   1023\u001b[0m )\n\u001b[1;32m   1024\u001b[0m kwds\u001b[38;5;241m.\u001b[39mupdate(kwds_defaults)\n\u001b[0;32m-> 1026\u001b[0m \u001b[38;5;28;01mreturn\u001b[39;00m \u001b[43m_read\u001b[49m\u001b[43m(\u001b[49m\u001b[43mfilepath_or_buffer\u001b[49m\u001b[43m,\u001b[49m\u001b[43m \u001b[49m\u001b[43mkwds\u001b[49m\u001b[43m)\u001b[49m\n",
      "File \u001b[0;32m~/miniconda3/envs/expiano/lib/python3.10/site-packages/pandas/io/parsers/readers.py:620\u001b[0m, in \u001b[0;36m_read\u001b[0;34m(filepath_or_buffer, kwds)\u001b[0m\n\u001b[1;32m    617\u001b[0m _validate_names(kwds\u001b[38;5;241m.\u001b[39mget(\u001b[38;5;124m\"\u001b[39m\u001b[38;5;124mnames\u001b[39m\u001b[38;5;124m\"\u001b[39m, \u001b[38;5;28;01mNone\u001b[39;00m))\n\u001b[1;32m    619\u001b[0m \u001b[38;5;66;03m# Create the parser.\u001b[39;00m\n\u001b[0;32m--> 620\u001b[0m parser \u001b[38;5;241m=\u001b[39m \u001b[43mTextFileReader\u001b[49m\u001b[43m(\u001b[49m\u001b[43mfilepath_or_buffer\u001b[49m\u001b[43m,\u001b[49m\u001b[43m \u001b[49m\u001b[38;5;241;43m*\u001b[39;49m\u001b[38;5;241;43m*\u001b[39;49m\u001b[43mkwds\u001b[49m\u001b[43m)\u001b[49m\n\u001b[1;32m    622\u001b[0m \u001b[38;5;28;01mif\u001b[39;00m chunksize \u001b[38;5;129;01mor\u001b[39;00m iterator:\n\u001b[1;32m    623\u001b[0m     \u001b[38;5;28;01mreturn\u001b[39;00m parser\n",
      "File \u001b[0;32m~/miniconda3/envs/expiano/lib/python3.10/site-packages/pandas/io/parsers/readers.py:1620\u001b[0m, in \u001b[0;36mTextFileReader.__init__\u001b[0;34m(self, f, engine, **kwds)\u001b[0m\n\u001b[1;32m   1617\u001b[0m     \u001b[38;5;28mself\u001b[39m\u001b[38;5;241m.\u001b[39moptions[\u001b[38;5;124m\"\u001b[39m\u001b[38;5;124mhas_index_names\u001b[39m\u001b[38;5;124m\"\u001b[39m] \u001b[38;5;241m=\u001b[39m kwds[\u001b[38;5;124m\"\u001b[39m\u001b[38;5;124mhas_index_names\u001b[39m\u001b[38;5;124m\"\u001b[39m]\n\u001b[1;32m   1619\u001b[0m \u001b[38;5;28mself\u001b[39m\u001b[38;5;241m.\u001b[39mhandles: IOHandles \u001b[38;5;241m|\u001b[39m \u001b[38;5;28;01mNone\u001b[39;00m \u001b[38;5;241m=\u001b[39m \u001b[38;5;28;01mNone\u001b[39;00m\n\u001b[0;32m-> 1620\u001b[0m \u001b[38;5;28mself\u001b[39m\u001b[38;5;241m.\u001b[39m_engine \u001b[38;5;241m=\u001b[39m \u001b[38;5;28;43mself\u001b[39;49m\u001b[38;5;241;43m.\u001b[39;49m\u001b[43m_make_engine\u001b[49m\u001b[43m(\u001b[49m\u001b[43mf\u001b[49m\u001b[43m,\u001b[49m\u001b[43m \u001b[49m\u001b[38;5;28;43mself\u001b[39;49m\u001b[38;5;241;43m.\u001b[39;49m\u001b[43mengine\u001b[49m\u001b[43m)\u001b[49m\n",
      "File \u001b[0;32m~/miniconda3/envs/expiano/lib/python3.10/site-packages/pandas/io/parsers/readers.py:1880\u001b[0m, in \u001b[0;36mTextFileReader._make_engine\u001b[0;34m(self, f, engine)\u001b[0m\n\u001b[1;32m   1878\u001b[0m     \u001b[38;5;28;01mif\u001b[39;00m \u001b[38;5;124m\"\u001b[39m\u001b[38;5;124mb\u001b[39m\u001b[38;5;124m\"\u001b[39m \u001b[38;5;129;01mnot\u001b[39;00m \u001b[38;5;129;01min\u001b[39;00m mode:\n\u001b[1;32m   1879\u001b[0m         mode \u001b[38;5;241m+\u001b[39m\u001b[38;5;241m=\u001b[39m \u001b[38;5;124m\"\u001b[39m\u001b[38;5;124mb\u001b[39m\u001b[38;5;124m\"\u001b[39m\n\u001b[0;32m-> 1880\u001b[0m \u001b[38;5;28mself\u001b[39m\u001b[38;5;241m.\u001b[39mhandles \u001b[38;5;241m=\u001b[39m \u001b[43mget_handle\u001b[49m\u001b[43m(\u001b[49m\n\u001b[1;32m   1881\u001b[0m \u001b[43m    \u001b[49m\u001b[43mf\u001b[49m\u001b[43m,\u001b[49m\n\u001b[1;32m   1882\u001b[0m \u001b[43m    \u001b[49m\u001b[43mmode\u001b[49m\u001b[43m,\u001b[49m\n\u001b[1;32m   1883\u001b[0m \u001b[43m    \u001b[49m\u001b[43mencoding\u001b[49m\u001b[38;5;241;43m=\u001b[39;49m\u001b[38;5;28;43mself\u001b[39;49m\u001b[38;5;241;43m.\u001b[39;49m\u001b[43moptions\u001b[49m\u001b[38;5;241;43m.\u001b[39;49m\u001b[43mget\u001b[49m\u001b[43m(\u001b[49m\u001b[38;5;124;43m\"\u001b[39;49m\u001b[38;5;124;43mencoding\u001b[39;49m\u001b[38;5;124;43m\"\u001b[39;49m\u001b[43m,\u001b[49m\u001b[43m \u001b[49m\u001b[38;5;28;43;01mNone\u001b[39;49;00m\u001b[43m)\u001b[49m\u001b[43m,\u001b[49m\n\u001b[1;32m   1884\u001b[0m \u001b[43m    \u001b[49m\u001b[43mcompression\u001b[49m\u001b[38;5;241;43m=\u001b[39;49m\u001b[38;5;28;43mself\u001b[39;49m\u001b[38;5;241;43m.\u001b[39;49m\u001b[43moptions\u001b[49m\u001b[38;5;241;43m.\u001b[39;49m\u001b[43mget\u001b[49m\u001b[43m(\u001b[49m\u001b[38;5;124;43m\"\u001b[39;49m\u001b[38;5;124;43mcompression\u001b[39;49m\u001b[38;5;124;43m\"\u001b[39;49m\u001b[43m,\u001b[49m\u001b[43m \u001b[49m\u001b[38;5;28;43;01mNone\u001b[39;49;00m\u001b[43m)\u001b[49m\u001b[43m,\u001b[49m\n\u001b[1;32m   1885\u001b[0m \u001b[43m    \u001b[49m\u001b[43mmemory_map\u001b[49m\u001b[38;5;241;43m=\u001b[39;49m\u001b[38;5;28;43mself\u001b[39;49m\u001b[38;5;241;43m.\u001b[39;49m\u001b[43moptions\u001b[49m\u001b[38;5;241;43m.\u001b[39;49m\u001b[43mget\u001b[49m\u001b[43m(\u001b[49m\u001b[38;5;124;43m\"\u001b[39;49m\u001b[38;5;124;43mmemory_map\u001b[39;49m\u001b[38;5;124;43m\"\u001b[39;49m\u001b[43m,\u001b[49m\u001b[43m \u001b[49m\u001b[38;5;28;43;01mFalse\u001b[39;49;00m\u001b[43m)\u001b[49m\u001b[43m,\u001b[49m\n\u001b[1;32m   1886\u001b[0m \u001b[43m    \u001b[49m\u001b[43mis_text\u001b[49m\u001b[38;5;241;43m=\u001b[39;49m\u001b[43mis_text\u001b[49m\u001b[43m,\u001b[49m\n\u001b[1;32m   1887\u001b[0m \u001b[43m    \u001b[49m\u001b[43merrors\u001b[49m\u001b[38;5;241;43m=\u001b[39;49m\u001b[38;5;28;43mself\u001b[39;49m\u001b[38;5;241;43m.\u001b[39;49m\u001b[43moptions\u001b[49m\u001b[38;5;241;43m.\u001b[39;49m\u001b[43mget\u001b[49m\u001b[43m(\u001b[49m\u001b[38;5;124;43m\"\u001b[39;49m\u001b[38;5;124;43mencoding_errors\u001b[39;49m\u001b[38;5;124;43m\"\u001b[39;49m\u001b[43m,\u001b[49m\u001b[43m \u001b[49m\u001b[38;5;124;43m\"\u001b[39;49m\u001b[38;5;124;43mstrict\u001b[39;49m\u001b[38;5;124;43m\"\u001b[39;49m\u001b[43m)\u001b[49m\u001b[43m,\u001b[49m\n\u001b[1;32m   1888\u001b[0m \u001b[43m    \u001b[49m\u001b[43mstorage_options\u001b[49m\u001b[38;5;241;43m=\u001b[39;49m\u001b[38;5;28;43mself\u001b[39;49m\u001b[38;5;241;43m.\u001b[39;49m\u001b[43moptions\u001b[49m\u001b[38;5;241;43m.\u001b[39;49m\u001b[43mget\u001b[49m\u001b[43m(\u001b[49m\u001b[38;5;124;43m\"\u001b[39;49m\u001b[38;5;124;43mstorage_options\u001b[39;49m\u001b[38;5;124;43m\"\u001b[39;49m\u001b[43m,\u001b[49m\u001b[43m \u001b[49m\u001b[38;5;28;43;01mNone\u001b[39;49;00m\u001b[43m)\u001b[49m\u001b[43m,\u001b[49m\n\u001b[1;32m   1889\u001b[0m \u001b[43m\u001b[49m\u001b[43m)\u001b[49m\n\u001b[1;32m   1890\u001b[0m \u001b[38;5;28;01massert\u001b[39;00m \u001b[38;5;28mself\u001b[39m\u001b[38;5;241m.\u001b[39mhandles \u001b[38;5;129;01mis\u001b[39;00m \u001b[38;5;129;01mnot\u001b[39;00m \u001b[38;5;28;01mNone\u001b[39;00m\n\u001b[1;32m   1891\u001b[0m f \u001b[38;5;241m=\u001b[39m \u001b[38;5;28mself\u001b[39m\u001b[38;5;241m.\u001b[39mhandles\u001b[38;5;241m.\u001b[39mhandle\n",
      "File \u001b[0;32m~/miniconda3/envs/expiano/lib/python3.10/site-packages/pandas/io/common.py:873\u001b[0m, in \u001b[0;36mget_handle\u001b[0;34m(path_or_buf, mode, encoding, compression, memory_map, is_text, errors, storage_options)\u001b[0m\n\u001b[1;32m    868\u001b[0m \u001b[38;5;28;01melif\u001b[39;00m \u001b[38;5;28misinstance\u001b[39m(handle, \u001b[38;5;28mstr\u001b[39m):\n\u001b[1;32m    869\u001b[0m     \u001b[38;5;66;03m# Check whether the filename is to be opened in binary mode.\u001b[39;00m\n\u001b[1;32m    870\u001b[0m     \u001b[38;5;66;03m# Binary mode does not support 'encoding' and 'newline'.\u001b[39;00m\n\u001b[1;32m    871\u001b[0m     \u001b[38;5;28;01mif\u001b[39;00m ioargs\u001b[38;5;241m.\u001b[39mencoding \u001b[38;5;129;01mand\u001b[39;00m \u001b[38;5;124m\"\u001b[39m\u001b[38;5;124mb\u001b[39m\u001b[38;5;124m\"\u001b[39m \u001b[38;5;129;01mnot\u001b[39;00m \u001b[38;5;129;01min\u001b[39;00m ioargs\u001b[38;5;241m.\u001b[39mmode:\n\u001b[1;32m    872\u001b[0m         \u001b[38;5;66;03m# Encoding\u001b[39;00m\n\u001b[0;32m--> 873\u001b[0m         handle \u001b[38;5;241m=\u001b[39m \u001b[38;5;28;43mopen\u001b[39;49m\u001b[43m(\u001b[49m\n\u001b[1;32m    874\u001b[0m \u001b[43m            \u001b[49m\u001b[43mhandle\u001b[49m\u001b[43m,\u001b[49m\n\u001b[1;32m    875\u001b[0m \u001b[43m            \u001b[49m\u001b[43mioargs\u001b[49m\u001b[38;5;241;43m.\u001b[39;49m\u001b[43mmode\u001b[49m\u001b[43m,\u001b[49m\n\u001b[1;32m    876\u001b[0m \u001b[43m            \u001b[49m\u001b[43mencoding\u001b[49m\u001b[38;5;241;43m=\u001b[39;49m\u001b[43mioargs\u001b[49m\u001b[38;5;241;43m.\u001b[39;49m\u001b[43mencoding\u001b[49m\u001b[43m,\u001b[49m\n\u001b[1;32m    877\u001b[0m \u001b[43m            \u001b[49m\u001b[43merrors\u001b[49m\u001b[38;5;241;43m=\u001b[39;49m\u001b[43merrors\u001b[49m\u001b[43m,\u001b[49m\n\u001b[1;32m    878\u001b[0m \u001b[43m            \u001b[49m\u001b[43mnewline\u001b[49m\u001b[38;5;241;43m=\u001b[39;49m\u001b[38;5;124;43m\"\u001b[39;49m\u001b[38;5;124;43m\"\u001b[39;49m\u001b[43m,\u001b[49m\n\u001b[1;32m    879\u001b[0m \u001b[43m        \u001b[49m\u001b[43m)\u001b[49m\n\u001b[1;32m    880\u001b[0m     \u001b[38;5;28;01melse\u001b[39;00m:\n\u001b[1;32m    881\u001b[0m         \u001b[38;5;66;03m# Binary mode\u001b[39;00m\n\u001b[1;32m    882\u001b[0m         handle \u001b[38;5;241m=\u001b[39m \u001b[38;5;28mopen\u001b[39m(handle, ioargs\u001b[38;5;241m.\u001b[39mmode)\n",
      "\u001b[0;31mFileNotFoundError\u001b[0m: [Errno 2] No such file or directory: 'maestro-v3.0.0/maestro-v3.0.0.csv'"
     ]
    }
   ],
   "source": [
    "maestro_csv = 'maestro-v3.0.0/maestro-v3.0.0.csv'\n",
    "maestro_df = pd.read_csv(maestro_csv)\n",
    "maestro_df"
   ]
  },
  {
   "cell_type": "markdown",
   "id": "f52d91c6",
   "metadata": {},
   "source": [
    "# Get the pedal events for a single midi file"
   ]
  },
  {
   "cell_type": "code",
   "execution_count": null,
   "id": "ef550b03",
   "metadata": {
    "scrolled": true
   },
   "outputs": [],
   "source": [
    "example_midi = os.path.join(MAESTRO_FOLDER, maestro_df.iloc[0]['midi_filename'])\n",
    "print(example_midi)\n",
    "\n",
    "for message in mido.MidiFile(example_midi):\n",
    "    if message.is_cc(64):\n",
    "        assert message.channel == 0\n",
    "        print(message)\n",
    "        # time actually represents the time since the last message, not duration of the message\n",
    "        print(message.value, message.time)"
   ]
  },
  {
   "cell_type": "markdown",
   "id": "f7eba775",
   "metadata": {},
   "source": [
    "## Get a subset of Maestro"
   ]
  },
  {
   "cell_type": "code",
   "execution_count": null,
   "id": "43d37891",
   "metadata": {},
   "outputs": [],
   "source": [
    "maestro_subset = maestro_df.sample(frac=1/50, random_state=42)"
   ]
  },
  {
   "cell_type": "code",
   "execution_count": null,
   "id": "53bed737",
   "metadata": {
    "scrolled": true
   },
   "outputs": [],
   "source": [
    "# process pedal events into a list\n",
    "def add_pedal_events_col(df):\n",
    "    all_pedal_events = []\n",
    "    for midi_base in tqdm(df['midi_filename']):\n",
    "        file_name = os.path.join(MAESTRO_FOLDER, midi_base)\n",
    "\n",
    "        # List to store (value, time_until_next) pairs for sustain pedal messages\n",
    "        pedal_events = []\n",
    "        time_until_next = 0\n",
    "        # Iterate over messages in reverse\n",
    "        for message in reversed(list(mido.MidiFile(file_name))):\n",
    "            if message.type == 'control_change' and message.control == 64:\n",
    "                # Store the pedal message value and time until the next pedal message\n",
    "                pedal_events.append((message.value, time_until_next))\n",
    "                time_until_next = 0  # Reset time counter after recording this pedal message\n",
    "            time_until_next += message.time  # Accumulate time backwards\n",
    "\n",
    "        all_pedal_events.append(pd.DataFrame(pedal_events, columns=['level', 'duration']))\n",
    "    \n",
    "    df = df.assign(pedal_events=all_pedal_events)\n",
    "    return df\n",
    "\n",
    "maestro_subset = add_pedal_events_col(maestro_subset)\n",
    "maestro_subset['pedal_events']"
   ]
  },
  {
   "cell_type": "code",
   "execution_count": null,
   "id": "912919f5-3873-42cb-b174-49549d5431b4",
   "metadata": {
    "scrolled": true
   },
   "outputs": [],
   "source": [
    "all_events = pd.concat(maestro_subset['pedal_events'].to_list(), ignore_index=True)\n",
    "all_events"
   ]
  },
  {
   "cell_type": "code",
   "execution_count": null,
   "id": "534c3980",
   "metadata": {},
   "outputs": [],
   "source": [
    "print(len(level_times))\n",
    "counts, bin_edges, patches = plt.hist(all_events['level'], bins=range(129))\n",
    "plt.xlabel(\"Pedal Level\")\n",
    "plt.ylabel(\"Count\")\n",
    "plt.title(f\"Distribution of Pedal Level in Pedal Events on {len(maestro_subset)} random samples out of {len(maestro_df)}\")\n",
    "plt.show()"
   ]
  },
  {
   "cell_type": "markdown",
   "id": "7600443f",
   "metadata": {},
   "source": [
    "## Same Graph, weighted by time"
   ]
  },
  {
   "cell_type": "code",
   "execution_count": null,
   "id": "18e68071-41c1-42e7-b9fa-8d07bca0a421",
   "metadata": {},
   "outputs": [],
   "source": [
    "\n",
    "\n",
    "def plot_pedal_level_time(all_events):\n",
    "    fig, axes = plt.subplots(1, 2, figsize=(8, 4))  # 2 rows, 2 columns\n",
    "    cropped_events = all_events[(0 < all_events['level']) & (all_events['level'] < 127)]\n",
    "    axes[0].hist(all_events['level'], bins=range(0, 129), weights=all_events['duration'])\n",
    "    axes[1].hist(cropped_events['level'], bins=range(1, 128), weights=cropped_events['duration'])\n",
    "    axes[0].set_title(\"Total Pedal Time per Pedal Level\")\n",
    "    axes[1].set_title(\"Same Plot, Cropped off 0 and 127\")\n",
    "    \n",
    "    # Adjust layout\n",
    "    plt.tight_layout()\n",
    "    plt.show()\n",
    "    events_0 = all_events[all_events['level'] == 0]\n",
    "    events_127 = all_events[all_events['level'] == 127]\n",
    "\n",
    "    total_duration = all_events['duration'].sum()\n",
    "    fraction_no_pedal = events_0['duration'].sum()/total_duration\n",
    "    fraction_full_pedal = events_127['duration'].sum()/total_duration\n",
    "    print(f\"Fraction no pedal: {fraction_no_pedal:.3f}\")\n",
    "    print(f\"Fraction full pedal: {fraction_full_pedal:.3f}\")\n",
    "    print(f\"Fraction 1-126 pedal: {1-fraction_no_pedal-fraction_full_pedal:.3f}\")\n",
    "    print(f\"Total duration: {total_duration:.3f}\")\n",
    "\n",
    "# aggregate \n",
    "plot_pedal_level_time(all_events)"
   ]
  },
  {
   "cell_type": "markdown",
   "id": "c2875c3e",
   "metadata": {},
   "source": [
    "## Half Pedaling Peak\n",
    "There's a sharp peak at exactly 64; we suspect this corresponds to pianists half-pedaling."
   ]
  },
  {
   "cell_type": "code",
   "execution_count": null,
   "id": "bc3ddaf6",
   "metadata": {
    "scrolled": true
   },
   "outputs": [],
   "source": [
    "maestro_subset"
   ]
  },
  {
   "cell_type": "code",
   "execution_count": null,
   "id": "e483a687",
   "metadata": {},
   "outputs": [],
   "source": [
    "maestro_subset['num_pedal_events'] = [len(x) for x in maestro_subset['pedal_events']]\n",
    "maestro_subset['num_pedal_events'].describe()"
   ]
  },
  {
   "cell_type": "code",
   "execution_count": null,
   "id": "6b109acf",
   "metadata": {},
   "outputs": [],
   "source": [
    "maestro_subset['num_pedal_events_normalized'] = maestro_subset['num_pedal_events'] / maestro_subset['duration']\n",
    "maestro_subset['num_pedal_events_normalized'].describe()"
   ]
  },
  {
   "cell_type": "code",
   "execution_count": null,
   "id": "9fd09b00",
   "metadata": {
    "scrolled": true
   },
   "outputs": [],
   "source": [
    "pd.set_option('display.max_colwidth', 150)\n",
    "maestro_subset.sort_values(by='num_pedal_events_normalized', ascending=False)"
   ]
  },
  {
   "cell_type": "code",
   "execution_count": null,
   "id": "de19d2ee-05c0-4ed3-925c-2d355fab8e8d",
   "metadata": {},
   "outputs": [],
   "source": [
    "ballade_df = maestro_df[maestro_df['canonical_title'] == 'Ballade No. 1 in G Minor, Op. 23']\n",
    "ballade_df = ballade_df.drop_duplicates(subset=['year'], keep='first')\n",
    "ballade_df"
   ]
  },
  {
   "cell_type": "markdown",
   "id": "e730536b-1f99-4716-ada6-82b9f92a9587",
   "metadata": {},
   "source": [
    "# Compare Ballade Performances"
   ]
  },
  {
   "cell_type": "code",
   "execution_count": null,
   "id": "27131fd0",
   "metadata": {},
   "outputs": [],
   "source": [
    "ballade_df = add_pedal_events_col(ballade_df)"
   ]
  },
  {
   "cell_type": "code",
   "execution_count": null,
   "id": "a5d51f96-01b0-4852-9a4d-e0dc22067f09",
   "metadata": {},
   "outputs": [],
   "source": [
    "ballade_df"
   ]
  },
  {
   "cell_type": "code",
   "execution_count": null,
   "id": "08258eaf-d0b9-4b6d-bd13-6d37b21d7bc2",
   "metadata": {},
   "outputs": [],
   "source": [
    "for ind, row in list(ballade_df.iterrows())[:3]:\n",
    "    print(\"Performance ind:\", ind)\n",
    "    print(\"File:\", row['midi_filename'])\n",
    "    plot_pedal_level_time(row['pedal_events'])\n",
    "\n",
    "# fig, axes = plt.subplots(1, 2, figsize=(8, 4))\n",
    "# for _, row in list(ballade_df.iterrows())[:2]:\n",
    "#     # check that pedal events duration matches up with duration given in the data\n",
    "#     print(sum(row['pedal_events']['duration']), row['duration'])\n",
    "#     pedal_events = row['pedal_events']\n",
    "#     cropped_events = pedal_events[(pedal_events['level'] > 0) & (pedal_events['level'] < 127)]\n",
    "#     axes[0].hist(pedal_events['level'], bins=range(129), weights=row['pedal_events']['duration'], alpha=0.5)\n",
    "#     axes[1].hist(cropped_events['level'], alpha=0.2, bins=range(1, 128), weights=cropped_events['duration'])\n",
    "# plt.show()"
   ]
  },
  {
   "cell_type": "code",
   "execution_count": null,
   "id": "30712aab-aff0-4035-aa9d-71297db3cf61",
   "metadata": {},
   "outputs": [],
   "source": []
  }
 ],
 "metadata": {
  "kernelspec": {
   "display_name": "Python 3 (ipykernel)",
   "language": "python",
   "name": "python3"
  },
  "language_info": {
   "codemirror_mode": {
    "name": "ipython",
    "version": 3
   },
   "file_extension": ".py",
   "mimetype": "text/x-python",
   "name": "python",
   "nbconvert_exporter": "python",
   "pygments_lexer": "ipython3",
   "version": "3.10.15"
  }
 },
 "nbformat": 4,
 "nbformat_minor": 5
}
